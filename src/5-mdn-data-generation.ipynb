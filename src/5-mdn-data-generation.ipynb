{
 "cells": [
  {
   "cell_type": "markdown",
   "id": "5393b3ac-668e-451c-b153-33ca965e9364",
   "metadata": {},
   "source": [
    "# 5: MDN data generation component"
   ]
  },
  {
   "cell_type": "markdown",
   "id": "21670bbb-85ea-4f4c-9126-3ce5865e9730",
   "metadata": {},
   "source": [
    "This handles generating new data using the trained MDN deep abstract models produced in 3."
   ]
  },
  {
   "cell_type": "markdown",
   "id": "288c0db9-1151-4d97-8fb8-ded922774f0d",
   "metadata": {},
   "source": [
    "## Step 0: Setup"
   ]
  },
  {
   "cell_type": "code",
   "execution_count": null,
   "id": "30656d69-d349-4ec7-b831-f50c6dc959d5",
   "metadata": {},
   "outputs": [],
   "source": [
    "%load_ext autoreload\n",
    "%autoreload 2"
   ]
  },
  {
   "cell_type": "code",
   "execution_count": null,
   "id": "1697aa50-8de0-4b0c-95ad-72569802428f",
   "metadata": {},
   "outputs": [],
   "source": [
    "from simulation_manager import SimulationManager\n",
    "from mdn_manager import MdnManager\n",
    "\n",
    "import pickle\n",
    "import os\n",
    "from time import time"
   ]
  },
  {
   "cell_type": "code",
   "execution_count": null,
   "id": "6d930113-101f-4ed7-9177-be0a7308db76",
   "metadata": {},
   "outputs": [],
   "source": [
    "current_dir = os.getcwd()"
   ]
  },
  {
   "cell_type": "code",
   "execution_count": null,
   "id": "d9d07fa9-e53b-477c-a31a-520618320b83",
   "metadata": {},
   "outputs": [],
   "source": [
    "def gen_per_config(name, path, data_configs, plot=False):\n",
    "    simulation_times = dict()\n",
    "    if not os.path.exists(\"mdn_datasets\"):\n",
    "        os.makedirs(\"mdn_datasets\")\n",
    "        \n",
    "    for case in data_configs:\n",
    "        config = data_configs[case]\n",
    "        end_time = config[\"end_time\"]\n",
    "        n_steps = config[\"n_steps\"]\n",
    "        n_init_conditions = config[\"n_init_conditions\"]\n",
    "        n_sims_per_init_condition = config[\"n_sims_per_init_condition\"]\n",
    "        time_step = end_time / n_steps\n",
    "\n",
    "        config_name = f\"{name}_{n_steps}_{end_time}_{n_init_conditions}_{n_sims_per_init_condition}\"\n",
    "\n",
    "        sm = SimulationManager(\n",
    "            path_to_sbml=path,\n",
    "            model_name=name,\n",
    "            n_init_conditions=n_init_conditions,\n",
    "            n_sims_per_init_condition=n_sims_per_init_condition,\n",
    "            end_time=end_time,\n",
    "            n_steps=n_steps\n",
    "        )\n",
    "\n",
    "        mm = MdnManager(\n",
    "            sm.model_name,\n",
    "            sm.get_num_species()\n",
    "        )\n",
    "\n",
    "        with open(f\"ssa_datasets/{config_name}_test.pickle\", \"rb\") as f:\n",
    "            testing_data = pickle.load(f)\n",
    "\n",
    "        ic = sm.extract_initial_conditions_from_dataset(testing_data, n_init_conditions)\n",
    "        ic = sm.add_time_column(ic)\n",
    "\n",
    "        start_time = time()\n",
    "        mdn_data = mm.simulate(ic, time_step, n_steps, n_sims_per_init_condition)\n",
    "        time_taken = time() - start_time\n",
    "\n",
    "        simulation_times[case] = time_taken\n",
    "\n",
    "        if plot:\n",
    "            print(\"Plotting...\")\n",
    "            sm.plot_simulations(\n",
    "                f\"plots/{config_name}__mdn\",\n",
    "                mdn_data,\n",
    "                n_init_conditions,\n",
    "                n_sims_per_init_condition,\n",
    "                sm.get_column_names()\n",
    "            )\n",
    "\n",
    "        with open(f\"mdn_datasets/{config_name}.pickle\", \"wb\") as f:\n",
    "            pickle.dump(mdn_data, f)\n",
    "        print(f\"Generated MDN data of shape {mdn_data.shape}.\")"
   ]
  },
  {
   "cell_type": "markdown",
   "id": "c599a8d3-119f-424c-931c-15af6d7bf958",
   "metadata": {},
   "source": [
    "## Step 1: Multifeedback model"
   ]
  },
  {
   "cell_type": "code",
   "execution_count": null,
   "id": "e6c1aa51-c425-4875-b03d-5fa41c502a2e",
   "metadata": {},
   "outputs": [],
   "source": [
    "relative_path = \"crn_models/1_multifeedback.txt\"\n",
    "path = os.path.join(current_dir, relative_path)\n",
    "name = \"multifeedback\""
   ]
  },
  {
   "cell_type": "code",
   "execution_count": null,
   "id": "f6af4137-6de6-450f-81b3-39bc0ba87b14",
   "metadata": {},
   "outputs": [],
   "source": [
    "gen_config = {\n",
    "    # depth\n",
    "    \"case_1\": {\n",
    "        \"end_time\": 32,\n",
    "        \"n_steps\": 16,\n",
    "        \"n_init_conditions\": 100,\n",
    "        \"n_sims_per_init_condition\": 200\n",
    "    },\n",
    "    # breadth\n",
    "    \"case_2\": {\n",
    "        \"end_time\": 32,\n",
    "        \"n_steps\": 16,\n",
    "        \"n_init_conditions\": 200,\n",
    "        \"n_sims_per_init_condition\": 100\n",
    "    }\n",
    "}"
   ]
  },
  {
   "cell_type": "code",
   "execution_count": null,
   "id": "6b846157-437d-42da-a7b2-b5eceff6202e",
   "metadata": {
    "scrolled": true
   },
   "outputs": [],
   "source": [
    "gen_per_config(name, path, gen_config, plot=True)"
   ]
  },
  {
   "cell_type": "markdown",
   "id": "d8063f01-5930-439c-b3e8-42d7905cea78",
   "metadata": {},
   "source": [
    "## Step 2: Repressilator model"
   ]
  },
  {
   "cell_type": "code",
   "execution_count": null,
   "id": "4c45d68e-f194-4cd7-a96d-642125c3785f",
   "metadata": {},
   "outputs": [],
   "source": [
    "relative_path = \"crn_models/2_repressilator.txt\"\n",
    "path = os.path.join(current_dir, relative_path)\n",
    "name = \"repressilator\""
   ]
  },
  {
   "cell_type": "code",
   "execution_count": null,
   "id": "00e64fb0-6276-41bd-9f0e-6bfcafd351d5",
   "metadata": {},
   "outputs": [],
   "source": [
    "gen_config = {\n",
    "    # breadth\n",
    "    \"case_1\": {\n",
    "        \"end_time\": 128,\n",
    "        \"n_steps\": 32,\n",
    "        \"n_init_conditions\": 200,\n",
    "        \"n_sims_per_init_condition\": 100\n",
    "    }\n",
    "}"
   ]
  },
  {
   "cell_type": "code",
   "execution_count": null,
   "id": "6bb5d37f-2c89-450c-b833-0200e1eaaa06",
   "metadata": {
    "scrolled": true
   },
   "outputs": [],
   "source": [
    "gen_per_config(name, path, gen_config, plot=True)"
   ]
  }
 ],
 "metadata": {
  "kernelspec": {
   "display_name": "knime_torch_tf",
   "language": "python",
   "name": "knime_torch_tf"
  },
  "language_info": {
   "codemirror_mode": {
    "name": "ipython",
    "version": 3
   },
   "file_extension": ".py",
   "mimetype": "text/x-python",
   "name": "python",
   "nbconvert_exporter": "python",
   "pygments_lexer": "ipython3",
   "version": "3.10.12"
  }
 },
 "nbformat": 4,
 "nbformat_minor": 5
}
