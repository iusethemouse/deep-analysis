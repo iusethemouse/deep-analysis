{
 "cells": [
  {
   "cell_type": "markdown",
   "id": "d63b16a8-18d6-49ed-a647-c2e1db4cabc2",
   "metadata": {},
   "source": [
    "# 2: GAN training component"
   ]
  },
  {
   "cell_type": "markdown",
   "id": "83b02853-ae3e-4357-b554-99ef3c8b3196",
   "metadata": {},
   "source": [
    "This handles the training of the GAN deep abstraction method using the datasets generated in 1."
   ]
  },
  {
   "cell_type": "markdown",
   "id": "37da68cd-4903-433e-920e-cc0cd8109776",
   "metadata": {},
   "source": [
    "## Step 0: Setup"
   ]
  },
  {
   "cell_type": "code",
   "execution_count": 3,
   "id": "0bc409ae-901f-4bc5-9aa2-80337ccdb589",
   "metadata": {},
   "outputs": [],
   "source": [
    "%load_ext autoreload\n",
    "%autoreload 2"
   ]
  },
  {
   "cell_type": "code",
   "execution_count": 13,
   "id": "ad0835d4-be76-4f67-9b38-b1ced1947fd4",
   "metadata": {},
   "outputs": [],
   "source": [
    "from simulation_manager import SimulationManager\n",
    "from gan_manager import GanManager\n",
    "\n",
    "import pickle\n",
    "import os\n",
    "from time import time"
   ]
  },
  {
   "cell_type": "code",
   "execution_count": 5,
   "id": "f946d1ba-7cb9-48c6-8336-eaef90530b9f",
   "metadata": {},
   "outputs": [],
   "source": [
    "current_dir = os.getcwd()"
   ]
  },
  {
   "cell_type": "code",
   "execution_count": 1,
   "id": "8b57dabd-5d01-480e-be1c-183e7e5e0c07",
   "metadata": {},
   "outputs": [],
   "source": [
    "def train_per_config(name, path, train_config):\n",
    "    \"\"\"\n",
    "    Train a GAN deep abstract model for each provided case.\n",
    "    Example `train_config` dict:\n",
    "        {\"case_1\": {\n",
    "                \"end_time\": 32,\n",
    "                \"n_steps\": 16,\n",
    "                \"n_init_conditions\": 100,\n",
    "                \"n_sims_per_init_condition\": 2000,\n",
    "                \"n_epochs\": 1,\n",
    "                \"batch_size\": 256,\n",
    "                \"n_critic\": 5\n",
    "            }\n",
    "        }\n",
    "\n",
    "    The trained models are stored in the \"trained_gan\" directory.\n",
    "    \n",
    "    Parameters:\n",
    "    - name: string representing the name of the CRN\n",
    "    - path: string representing the filepath to the CRN definition (Antimony .txt or SML .xml)\n",
    "    - train_config: dict containing the different training configurations\n",
    "    \"\"\"\n",
    "    training_times = dict()\n",
    "    if not os.path.exists(\"trained_gan\"):\n",
    "        os.makedirs(\"trained_gan\")\n",
    "        \n",
    "    for case in train_config:\n",
    "        config = train_config[case]\n",
    "        end_time = config[\"end_time\"]\n",
    "        n_steps = config[\"n_steps\"]\n",
    "        n_init_conditions = config[\"n_init_conditions\"]\n",
    "        n_sims_per_init_condition = config[\"n_sims_per_init_condition\"]\n",
    "        n_epochs = config[\"n_epochs\"]\n",
    "        batch_size = config[\"batch_size\"]\n",
    "        n_critic = config[\"n_critic\"]\n",
    "\n",
    "        config_name = f\"{name}_{n_steps}_{end_time}_{n_init_conditions}_{n_sims_per_init_condition}\"\n",
    "    \n",
    "        with open(f\"ssa_datasets/{config_name}_train.pickle\", \"rb\") as f:\n",
    "            training_data = pickle.load(f)\n",
    "\n",
    "        with open(f\"ssa_datasets/{config_name}_test.pickle\", \"rb\") as f:\n",
    "            test_data = pickle.load(f)\n",
    "    \n",
    "        sm = SimulationManager(\n",
    "            path_to_sbml=path,\n",
    "            model_name=name,\n",
    "            n_init_conditions=n_init_conditions,\n",
    "            n_sims_per_init_condition=n_sims_per_init_condition,\n",
    "            end_time=end_time,\n",
    "            n_steps=n_steps\n",
    "        )\n",
    "    \n",
    "        gm = GanManager(\n",
    "            model_name=sm.model_name,\n",
    "            n_epochs=n_epochs,\n",
    "            batch_size=batch_size,\n",
    "            species_names=sm.get_species_names(),\n",
    "            x_dim=sm.get_num_species(),\n",
    "            traj_len=n_steps,\n",
    "            end_time=end_time,\n",
    "            id=config_name\n",
    "        )\n",
    "    \n",
    "        gan_train_data = sm.transform_data_for_gan(training_data)\n",
    "        gan_test_data = sm.transform_validation_data_for_gan(test_data, n_sims_per_init_condition)\n",
    "    \n",
    "        gm.init_dataset(\n",
    "            train_data=gan_train_data,\n",
    "            test_data=gan_test_data\n",
    "        )\n",
    "        gm.init_models()\n",
    "    \n",
    "        start_time = time()\n",
    "        gm.train(n_critic=n_critic)\n",
    "        time_taken = time() - start_time\n",
    "        training_times[case] = time_taken\n",
    "\n",
    "        print(f\"Finished training GAN for {case}.\")\n",
    "    \n",
    "    with open(f\"{name}_gan_training_times.pickle\", \"wb\") as f:\n",
    "        pickle.dump(training_times, f)"
   ]
  },
  {
   "cell_type": "markdown",
   "id": "7be0a82c-5c58-4475-81e2-47675bf04dc0",
   "metadata": {},
   "source": [
    "## Step 1: Multifeedback model"
   ]
  },
  {
   "cell_type": "code",
   "execution_count": 7,
   "id": "ec90930f-ef9d-4509-95eb-d8c1b1d7c213",
   "metadata": {},
   "outputs": [],
   "source": [
    "relative_path = \"crn_models/1_multifeedback.txt\"\n",
    "path = os.path.join(current_dir, relative_path)\n",
    "name = \"multifeedback\""
   ]
  },
  {
   "cell_type": "code",
   "execution_count": 8,
   "id": "884047fb-67de-4506-a68b-a756444b41bd",
   "metadata": {},
   "outputs": [],
   "source": [
    "train_config = {\n",
    "    \"case_1\": {\n",
    "        \"end_time\": 32,\n",
    "        \"n_steps\": 16,\n",
    "        \"n_init_conditions\": 100,\n",
    "        \"n_sims_per_init_condition\": 200,\n",
    "        \"n_epochs\": 2,\n",
    "        \"batch_size\": 256,\n",
    "        \"n_critic\": 5\n",
    "    },\n",
    "    \"case_2\": {\n",
    "        \"end_time\": 32,\n",
    "        \"n_steps\": 16,\n",
    "        \"n_init_conditions\": 200,\n",
    "        \"n_sims_per_init_condition\": 100,\n",
    "        \"n_epochs\": 2,\n",
    "        \"batch_size\": 256,\n",
    "        \"n_critic\": 5\n",
    "    }\n",
    "}"
   ]
  },
  {
   "cell_type": "code",
   "execution_count": 9,
   "id": "8054dbe5-40ff-4106-b9c3-f632996c3691",
   "metadata": {
    "scrolled": true
   },
   "outputs": [
    {
     "name": "stdout",
     "output_type": "stream",
     "text": [
      ">> Initialised GanManager with model: multifeedback, ID: multifeedback_16_32_100_200, epochs: 2.\n",
      ">> Loaded data.\n",
      ">> Train shape: X (20000, 4, 16), Y (20000, 4, 1).\n",
      ">> Test shape: X (100, 200, 4, 16), Y (100, 4, 1).\n",
      ">> Initialised Generator and Discriminator.\n",
      "[Epoch 1/2] [Batch 0/78] [D loss: 13.518375396728516] [G loss: 0.21728309988975525]\n",
      "[Epoch 1/2] [Batch 5/78] [D loss: 8.718344688415527] [G loss: 0.2524811625480652]\n",
      "[Epoch 1/2] [Batch 10/78] [D loss: 5.079339027404785] [G loss: 0.3166402280330658]\n",
      "[Epoch 1/2] [Batch 15/78] [D loss: 3.152920722961426] [G loss: 0.3182479739189148]\n",
      "[Epoch 1/2] [Batch 20/78] [D loss: 2.0068793296813965] [G loss: 0.42528122663497925]\n",
      "[Epoch 1/2] [Batch 25/78] [D loss: 1.3987910747528076] [G loss: 0.4600575566291809]\n",
      "[Epoch 1/2] [Batch 30/78] [D loss: 0.697594404220581] [G loss: 0.5850587487220764]\n",
      "[Epoch 1/2] [Batch 35/78] [D loss: 0.1972091794013977] [G loss: 0.632701575756073]\n",
      "[Epoch 1/2] [Batch 40/78] [D loss: -0.07169246673583984] [G loss: 0.690274715423584]\n",
      "[Epoch 1/2] [Batch 45/78] [D loss: -0.37649619579315186] [G loss: 0.8139182329177856]\n",
      "[Epoch 1/2] [Batch 50/78] [D loss: -0.6755027770996094] [G loss: 0.8924769759178162]\n",
      "[Epoch 1/2] [Batch 55/78] [D loss: -0.8277492523193359] [G loss: 0.9663053750991821]\n",
      "[Epoch 1/2] [Batch 60/78] [D loss: -1.027118444442749] [G loss: 1.113057255744934]\n",
      "[Epoch 1/2] [Batch 65/78] [D loss: -1.162744164466858] [G loss: 1.1930409669876099]\n",
      "[Epoch 1/2] [Batch 70/78] [D loss: -1.4083430767059326] [G loss: 1.3240081071853638]\n",
      "[Epoch 1/2] [Batch 75/78] [D loss: -1.6613919734954834] [G loss: 1.4052081108093262]\n",
      "[Epoch 2/2] [Batch 0/78] [D loss: -1.7176449298858643] [G loss: 1.4525312185287476]\n",
      "[Epoch 2/2] [Batch 5/78] [D loss: -1.851859211921692] [G loss: 1.5838394165039062]\n",
      "[Epoch 2/2] [Batch 10/78] [D loss: -1.9420585632324219] [G loss: 1.727895975112915]\n",
      "[Epoch 2/2] [Batch 15/78] [D loss: -2.091630697250366] [G loss: 1.7835216522216797]\n",
      "[Epoch 2/2] [Batch 20/78] [D loss: -2.1829617023468018] [G loss: 1.8768302202224731]\n",
      "[Epoch 2/2] [Batch 25/78] [D loss: -2.3306851387023926] [G loss: 1.9744726419448853]\n",
      "[Epoch 2/2] [Batch 30/78] [D loss: -2.415259838104248] [G loss: 2.073509454727173]\n",
      "[Epoch 2/2] [Batch 35/78] [D loss: -2.4534707069396973] [G loss: 2.1536786556243896]\n",
      "[Epoch 2/2] [Batch 40/78] [D loss: -2.5578203201293945] [G loss: 2.2160322666168213]\n",
      "[Epoch 2/2] [Batch 45/78] [D loss: -2.6182503700256348] [G loss: 2.312731981277466]\n",
      "[Epoch 2/2] [Batch 50/78] [D loss: -2.627375841140747] [G loss: 2.3853421211242676]\n",
      "[Epoch 2/2] [Batch 55/78] [D loss: -2.6145944595336914] [G loss: 2.42608642578125]\n",
      "[Epoch 2/2] [Batch 60/78] [D loss: -2.626295328140259] [G loss: 2.5129880905151367]\n",
      "[Epoch 2/2] [Batch 65/78] [D loss: -2.7046048641204834] [G loss: 2.5192453861236572]\n",
      "[Epoch 2/2] [Batch 70/78] [D loss: -2.770387887954712] [G loss: 2.5948596000671387]\n",
      "[Epoch 2/2] [Batch 75/78] [D loss: -2.663306713104248] [G loss: 2.561734914779663]\n",
      "Finished training WGAN for case_1.\n",
      ">> Initialised GanManager with model: multifeedback, ID: multifeedback_16_32_200_100, epochs: 2.\n",
      ">> Loaded data.\n",
      ">> Train shape: X (20000, 4, 16), Y (20000, 4, 1).\n",
      ">> Test shape: X (200, 100, 4, 16), Y (200, 4, 1).\n",
      ">> Initialised Generator and Discriminator.\n",
      "[Epoch 1/2] [Batch 0/78] [D loss: 12.42917537689209] [G loss: -0.15044404566287994]\n",
      "[Epoch 1/2] [Batch 5/78] [D loss: 6.9552321434021] [G loss: -0.2132771760225296]\n",
      "[Epoch 1/2] [Batch 10/78] [D loss: 4.636307239532471] [G loss: -0.11109936237335205]\n",
      "[Epoch 1/2] [Batch 15/78] [D loss: 3.1701431274414062] [G loss: -0.03035896271467209]\n",
      "[Epoch 1/2] [Batch 20/78] [D loss: 1.9894306659698486] [G loss: 0.014583218842744827]\n",
      "[Epoch 1/2] [Batch 25/78] [D loss: 1.3938970565795898] [G loss: 0.11302614212036133]\n",
      "[Epoch 1/2] [Batch 30/78] [D loss: 0.5598322749137878] [G loss: 0.2932865023612976]\n",
      "[Epoch 1/2] [Batch 35/78] [D loss: 0.28173601627349854] [G loss: 0.3531561493873596]\n",
      "[Epoch 1/2] [Batch 40/78] [D loss: -0.15273451805114746] [G loss: 0.514070987701416]\n",
      "[Epoch 1/2] [Batch 45/78] [D loss: -0.44529062509536743] [G loss: 0.6397119164466858]\n",
      "[Epoch 1/2] [Batch 50/78] [D loss: -0.6557716727256775] [G loss: 0.834086000919342]\n",
      "[Epoch 1/2] [Batch 55/78] [D loss: -0.957082986831665] [G loss: 0.9549644589424133]\n",
      "[Epoch 1/2] [Batch 60/78] [D loss: -1.1620440483093262] [G loss: 1.1360989809036255]\n",
      "[Epoch 1/2] [Batch 65/78] [D loss: -1.5573803186416626] [G loss: 1.2422235012054443]\n",
      "[Epoch 1/2] [Batch 70/78] [D loss: -1.7167232036590576] [G loss: 1.3887238502502441]\n",
      "[Epoch 1/2] [Batch 75/78] [D loss: -1.8249883651733398] [G loss: 1.5493648052215576]\n",
      "[Epoch 2/2] [Batch 0/78] [D loss: -2.031080722808838] [G loss: 1.6224682331085205]\n",
      "[Epoch 2/2] [Batch 5/78] [D loss: -2.2147891521453857] [G loss: 1.7561731338500977]\n",
      "[Epoch 2/2] [Batch 10/78] [D loss: -2.331974983215332] [G loss: 1.9310429096221924]\n",
      "[Epoch 2/2] [Batch 15/78] [D loss: -2.4749984741210938] [G loss: 2.004251003265381]\n",
      "[Epoch 2/2] [Batch 20/78] [D loss: -2.6217074394226074] [G loss: 2.100590229034424]\n",
      "[Epoch 2/2] [Batch 25/78] [D loss: -2.519024610519409] [G loss: 2.1888301372528076]\n",
      "[Epoch 2/2] [Batch 30/78] [D loss: -2.810856580734253] [G loss: 2.247188091278076]\n",
      "[Epoch 2/2] [Batch 35/78] [D loss: -2.9028406143188477] [G loss: 2.389875888824463]\n",
      "[Epoch 2/2] [Batch 40/78] [D loss: -2.9387221336364746] [G loss: 2.451122760772705]\n",
      "[Epoch 2/2] [Batch 45/78] [D loss: -3.079636573791504] [G loss: 2.501769781112671]\n",
      "[Epoch 2/2] [Batch 50/78] [D loss: -3.0862319469451904] [G loss: 2.564169406890869]\n",
      "[Epoch 2/2] [Batch 55/78] [D loss: -3.1832239627838135] [G loss: 2.598118543624878]\n",
      "[Epoch 2/2] [Batch 60/78] [D loss: -3.0762627124786377] [G loss: 2.6564550399780273]\n",
      "[Epoch 2/2] [Batch 65/78] [D loss: -3.206346035003662] [G loss: 2.6929306983947754]\n",
      "[Epoch 2/2] [Batch 70/78] [D loss: -3.2838430404663086] [G loss: 2.7214090824127197]\n",
      "[Epoch 2/2] [Batch 75/78] [D loss: -3.156812906265259] [G loss: 2.7506165504455566]\n",
      "Finished training WGAN for case_2.\n"
     ]
    }
   ],
   "source": [
    "train_per_config(name, path, train_config)"
   ]
  },
  {
   "cell_type": "markdown",
   "id": "237b2389-6939-4f5c-8501-0626146386be",
   "metadata": {},
   "source": [
    "## Step 2: Repressilator model"
   ]
  },
  {
   "cell_type": "code",
   "execution_count": 10,
   "id": "10816e01-e79a-4fb7-969b-57b77887567b",
   "metadata": {},
   "outputs": [],
   "source": [
    "relative_path = \"crn_models/2_repressilator.txt\"\n",
    "path = os.path.join(current_dir, relative_path)\n",
    "name = \"repressilator\""
   ]
  },
  {
   "cell_type": "code",
   "execution_count": 11,
   "id": "1467ea20-00cf-455f-a89a-8437db87ff76",
   "metadata": {},
   "outputs": [],
   "source": [
    "train_config = {\n",
    "    \"case_1\": {\n",
    "        \"end_time\": 128,\n",
    "        \"n_steps\": 32,\n",
    "        \"n_init_conditions\": 200,\n",
    "        \"n_sims_per_init_condition\": 100,\n",
    "        \"n_epochs\": 2,\n",
    "        \"batch_size\": 256,\n",
    "        \"n_critic\": 5\n",
    "    },\n",
    "}"
   ]
  },
  {
   "cell_type": "code",
   "execution_count": 12,
   "id": "18d40640-9563-4405-ac5b-99e48026886e",
   "metadata": {
    "scrolled": true
   },
   "outputs": [
    {
     "name": "stdout",
     "output_type": "stream",
     "text": [
      ">> Initialised GanManager with model: repressilator, ID: repressilator_32_128_200_100, epochs: 2.\n",
      ">> Loaded data.\n",
      ">> Train shape: X (20000, 3, 32), Y (20000, 3, 1).\n",
      ">> Test shape: X (200, 100, 3, 32), Y (200, 3, 1).\n",
      ">> Initialised Generator and Discriminator.\n",
      "[Epoch 1/2] [Batch 0/78] [D loss: 7.749721050262451] [G loss: -0.26374268531799316]\n",
      "[Epoch 1/2] [Batch 5/78] [D loss: 3.654705286026001] [G loss: -0.1961423009634018]\n",
      "[Epoch 1/2] [Batch 10/78] [D loss: 1.9742927551269531] [G loss: -0.052551645785570145]\n",
      "[Epoch 1/2] [Batch 15/78] [D loss: 0.7699592709541321] [G loss: 0.14438873529434204]\n",
      "[Epoch 1/2] [Batch 20/78] [D loss: -0.030763983726501465] [G loss: 0.23808316886425018]\n",
      "[Epoch 1/2] [Batch 25/78] [D loss: -0.5037968158721924] [G loss: 0.43505150079727173]\n",
      "[Epoch 1/2] [Batch 30/78] [D loss: -0.9584794044494629] [G loss: 0.6020069718360901]\n",
      "[Epoch 1/2] [Batch 35/78] [D loss: -1.5083694458007812] [G loss: 0.7988519668579102]\n",
      "[Epoch 1/2] [Batch 40/78] [D loss: -1.94746732711792] [G loss: 1.0757064819335938]\n",
      "[Epoch 1/2] [Batch 45/78] [D loss: -2.260087490081787] [G loss: 1.2177380323410034]\n",
      "[Epoch 1/2] [Batch 50/78] [D loss: -2.7191872596740723] [G loss: 1.4686596393585205]\n",
      "[Epoch 1/2] [Batch 55/78] [D loss: -3.093649387359619] [G loss: 1.6723299026489258]\n",
      "[Epoch 1/2] [Batch 60/78] [D loss: -3.4580657482147217] [G loss: 1.9502631425857544]\n",
      "[Epoch 1/2] [Batch 65/78] [D loss: -3.738074541091919] [G loss: 2.1346435546875]\n",
      "[Epoch 1/2] [Batch 70/78] [D loss: -4.135860919952393] [G loss: 2.360370397567749]\n",
      "[Epoch 1/2] [Batch 75/78] [D loss: -4.307621002197266] [G loss: 2.614703416824341]\n",
      "[Epoch 2/2] [Batch 0/78] [D loss: -4.451653480529785] [G loss: 2.69882869720459]\n",
      "[Epoch 2/2] [Batch 5/78] [D loss: -4.711068153381348] [G loss: 2.88114070892334]\n",
      "[Epoch 2/2] [Batch 10/78] [D loss: -4.786052227020264] [G loss: 3.086301326751709]\n",
      "[Epoch 2/2] [Batch 15/78] [D loss: -4.967157363891602] [G loss: 3.240574598312378]\n",
      "[Epoch 2/2] [Batch 20/78] [D loss: -5.164035797119141] [G loss: 3.3119471073150635]\n",
      "[Epoch 2/2] [Batch 25/78] [D loss: -5.315970420837402] [G loss: 3.5020360946655273]\n",
      "[Epoch 2/2] [Batch 30/78] [D loss: -5.4084978103637695] [G loss: 3.635509967803955]\n",
      "[Epoch 2/2] [Batch 35/78] [D loss: -5.492693901062012] [G loss: 3.7259132862091064]\n",
      "[Epoch 2/2] [Batch 40/78] [D loss: -5.730900287628174] [G loss: 3.809696674346924]\n",
      "[Epoch 2/2] [Batch 45/78] [D loss: -5.680768013000488] [G loss: 3.885021686553955]\n",
      "[Epoch 2/2] [Batch 50/78] [D loss: -5.742460250854492] [G loss: 3.9020488262176514]\n",
      "[Epoch 2/2] [Batch 55/78] [D loss: -5.728811264038086] [G loss: 3.9806556701660156]\n",
      "[Epoch 2/2] [Batch 60/78] [D loss: -5.654135704040527] [G loss: 3.9930481910705566]\n",
      "[Epoch 2/2] [Batch 65/78] [D loss: -5.743220329284668] [G loss: 4.070641040802002]\n",
      "[Epoch 2/2] [Batch 70/78] [D loss: -5.6295552253723145] [G loss: 4.038034439086914]\n",
      "[Epoch 2/2] [Batch 75/78] [D loss: -5.640302658081055] [G loss: 4.103783130645752]\n",
      "Finished training WGAN for case_1.\n"
     ]
    }
   ],
   "source": [
    "train_per_config(name, path, train_config)"
   ]
  },
  {
   "cell_type": "code",
   "execution_count": null,
   "id": "db7251da-9664-40e6-b04e-1b51d208e2ee",
   "metadata": {},
   "outputs": [],
   "source": []
  }
 ],
 "metadata": {
  "kernelspec": {
   "display_name": "knime_torch_tf",
   "language": "python",
   "name": "knime_torch_tf"
  },
  "language_info": {
   "codemirror_mode": {
    "name": "ipython",
    "version": 3
   },
   "file_extension": ".py",
   "mimetype": "text/x-python",
   "name": "python",
   "nbconvert_exporter": "python",
   "pygments_lexer": "ipython3",
   "version": "3.10.12"
  }
 },
 "nbformat": 4,
 "nbformat_minor": 5
}
