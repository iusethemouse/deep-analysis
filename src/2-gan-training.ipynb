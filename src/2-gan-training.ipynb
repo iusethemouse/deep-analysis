{
 "cells": [
  {
   "cell_type": "markdown",
   "id": "d63b16a8-18d6-49ed-a647-c2e1db4cabc2",
   "metadata": {},
   "source": [
    "# 2: GAN training component"
   ]
  },
  {
   "cell_type": "markdown",
   "id": "83b02853-ae3e-4357-b554-99ef3c8b3196",
   "metadata": {},
   "source": [
    "This handles the training of the GAN deep abstraction method using the datasets generated in 1."
   ]
  },
  {
   "cell_type": "markdown",
   "id": "37da68cd-4903-433e-920e-cc0cd8109776",
   "metadata": {},
   "source": [
    "## Step 0: Setup"
   ]
  },
  {
   "cell_type": "code",
   "execution_count": null,
   "id": "0bc409ae-901f-4bc5-9aa2-80337ccdb589",
   "metadata": {},
   "outputs": [],
   "source": [
    "%load_ext autoreload\n",
    "%autoreload 2"
   ]
  },
  {
   "cell_type": "code",
   "execution_count": null,
   "id": "ad0835d4-be76-4f67-9b38-b1ced1947fd4",
   "metadata": {},
   "outputs": [],
   "source": [
    "from simulation_manager import SimulationManager\n",
    "from gan_manager import GanManager\n",
    "\n",
    "import pickle\n",
    "import os\n",
    "from time import time"
   ]
  },
  {
   "cell_type": "code",
   "execution_count": null,
   "id": "f946d1ba-7cb9-48c6-8336-eaef90530b9f",
   "metadata": {},
   "outputs": [],
   "source": [
    "current_dir = os.getcwd()"
   ]
  },
  {
   "cell_type": "code",
   "execution_count": null,
   "id": "8b57dabd-5d01-480e-be1c-183e7e5e0c07",
   "metadata": {},
   "outputs": [],
   "source": [
    "def train_per_config(name, path, train_config):\n",
    "    \"\"\"\n",
    "    Train a GAN deep abstract model for each provided case.\n",
    "    Example `train_config` dict:\n",
    "        {\"case_1\": {\n",
    "                \"end_time\": 32,\n",
    "                \"n_steps\": 16,\n",
    "                \"n_init_conditions\": 100,\n",
    "                \"n_sims_per_init_condition\": 2000,\n",
    "                \"n_epochs\": 1,\n",
    "                \"batch_size\": 256,\n",
    "                \"n_critic\": 5\n",
    "            }\n",
    "        }\n",
    "\n",
    "    The trained models are stored in the \"trained_gan\" directory.\n",
    "    \n",
    "    Parameters:\n",
    "    - name: string representing the name of the CRN\n",
    "    - path: string representing the filepath to the CRN definition (Antimony .txt or SML .xml)\n",
    "    - train_config: dict containing the different training configurations\n",
    "    \"\"\"\n",
    "    training_times = dict()\n",
    "    if not os.path.exists(\"trained_gan\"):\n",
    "        os.makedirs(\"trained_gan\")\n",
    "        \n",
    "    for case in train_config:\n",
    "        config = train_config[case]\n",
    "        end_time = config[\"end_time\"]\n",
    "        n_steps = config[\"n_steps\"]\n",
    "        n_init_conditions = config[\"n_init_conditions\"]\n",
    "        n_sims_per_init_condition = config[\"n_sims_per_init_condition\"]\n",
    "        n_epochs = config[\"n_epochs\"]\n",
    "        batch_size = config[\"batch_size\"]\n",
    "        n_critic = config[\"n_critic\"]\n",
    "\n",
    "        config_name = f\"{name}_{n_steps}_{end_time}_{n_init_conditions}_{n_sims_per_init_condition}\"\n",
    "    \n",
    "        with open(f\"ssa_datasets/{config_name}_train.pickle\", \"rb\") as f:\n",
    "            training_data = pickle.load(f)\n",
    "\n",
    "        with open(f\"ssa_datasets/{config_name}_test.pickle\", \"rb\") as f:\n",
    "            test_data = pickle.load(f)\n",
    "    \n",
    "        sm = SimulationManager(\n",
    "            path_to_sbml=path,\n",
    "            model_name=name,\n",
    "            n_init_conditions=n_init_conditions,\n",
    "            n_sims_per_init_condition=n_sims_per_init_condition,\n",
    "            end_time=end_time,\n",
    "            n_steps=n_steps\n",
    "        )\n",
    "    \n",
    "        gm = GanManager(\n",
    "            model_name=sm.model_name,\n",
    "            n_epochs=n_epochs,\n",
    "            batch_size=batch_size,\n",
    "            species_names=sm.get_species_names(),\n",
    "            x_dim=sm.get_num_species(),\n",
    "            traj_len=n_steps,\n",
    "            end_time=end_time,\n",
    "            id=config_name\n",
    "        )\n",
    "    \n",
    "        gan_train_data = sm.transform_data_for_gan(training_data)\n",
    "        gan_test_data = sm.transform_validation_data_for_gan(test_data, n_sims_per_init_condition)\n",
    "    \n",
    "        gm.init_dataset(\n",
    "            train_data=gan_train_data,\n",
    "            test_data=gan_test_data\n",
    "        )\n",
    "        gm.init_models()\n",
    "    \n",
    "        start_time = time()\n",
    "        gm.train(n_critic=n_critic)\n",
    "        time_taken = time() - start_time\n",
    "        training_times[case] = time_taken\n",
    "\n",
    "        print(f\"Finished training GAN for {case}.\")\n",
    "    \n",
    "    with open(f\"{name}_gan_training_times.pickle\", \"wb\") as f:\n",
    "        pickle.dump(training_times, f)"
   ]
  },
  {
   "cell_type": "markdown",
   "id": "7be0a82c-5c58-4475-81e2-47675bf04dc0",
   "metadata": {},
   "source": [
    "## Step 1: Multifeedback model"
   ]
  },
  {
   "cell_type": "code",
   "execution_count": null,
   "id": "ec90930f-ef9d-4509-95eb-d8c1b1d7c213",
   "metadata": {},
   "outputs": [],
   "source": [
    "relative_path = \"crn_models/1_multifeedback.txt\"\n",
    "path = os.path.join(current_dir, relative_path)\n",
    "name = \"multifeedback\""
   ]
  },
  {
   "cell_type": "code",
   "execution_count": null,
   "id": "884047fb-67de-4506-a68b-a756444b41bd",
   "metadata": {},
   "outputs": [],
   "source": [
    "train_config = {\n",
    "    \"case_1\": {\n",
    "        \"end_time\": 32,\n",
    "        \"n_steps\": 16,\n",
    "        \"n_init_conditions\": 100,\n",
    "        \"n_sims_per_init_condition\": 200,\n",
    "        \"n_epochs\": 2,\n",
    "        \"batch_size\": 256,\n",
    "        \"n_critic\": 5\n",
    "    },\n",
    "    \"case_2\": {\n",
    "        \"end_time\": 32,\n",
    "        \"n_steps\": 16,\n",
    "        \"n_init_conditions\": 200,\n",
    "        \"n_sims_per_init_condition\": 100,\n",
    "        \"n_epochs\": 2,\n",
    "        \"batch_size\": 256,\n",
    "        \"n_critic\": 5\n",
    "    }\n",
    "}"
   ]
  },
  {
   "cell_type": "code",
   "execution_count": null,
   "id": "8054dbe5-40ff-4106-b9c3-f632996c3691",
   "metadata": {
    "scrolled": true
   },
   "outputs": [],
   "source": [
    "train_per_config(name, path, train_config)"
   ]
  },
  {
   "cell_type": "markdown",
   "id": "237b2389-6939-4f5c-8501-0626146386be",
   "metadata": {},
   "source": [
    "## Step 2: Repressilator model"
   ]
  },
  {
   "cell_type": "code",
   "execution_count": null,
   "id": "10816e01-e79a-4fb7-969b-57b77887567b",
   "metadata": {},
   "outputs": [],
   "source": [
    "relative_path = \"crn_models/2_repressilator.txt\"\n",
    "path = os.path.join(current_dir, relative_path)\n",
    "name = \"repressilator\""
   ]
  },
  {
   "cell_type": "code",
   "execution_count": null,
   "id": "1467ea20-00cf-455f-a89a-8437db87ff76",
   "metadata": {},
   "outputs": [],
   "source": [
    "train_config = {\n",
    "    \"case_1\": {\n",
    "        \"end_time\": 128,\n",
    "        \"n_steps\": 32,\n",
    "        \"n_init_conditions\": 200,\n",
    "        \"n_sims_per_init_condition\": 100,\n",
    "        \"n_epochs\": 2,\n",
    "        \"batch_size\": 256,\n",
    "        \"n_critic\": 5\n",
    "    },\n",
    "}"
   ]
  },
  {
   "cell_type": "code",
   "execution_count": null,
   "id": "18d40640-9563-4405-ac5b-99e48026886e",
   "metadata": {
    "scrolled": true
   },
   "outputs": [],
   "source": [
    "train_per_config(name, path, train_config)"
   ]
  },
  {
   "cell_type": "code",
   "execution_count": null,
   "id": "db7251da-9664-40e6-b04e-1b51d208e2ee",
   "metadata": {},
   "outputs": [],
   "source": []
  }
 ],
 "metadata": {
  "kernelspec": {
   "display_name": "knime_torch_tf",
   "language": "python",
   "name": "knime_torch_tf"
  },
  "language_info": {
   "codemirror_mode": {
    "name": "ipython",
    "version": 3
   },
   "file_extension": ".py",
   "mimetype": "text/x-python",
   "name": "python",
   "nbconvert_exporter": "python",
   "pygments_lexer": "ipython3",
   "version": "3.10.12"
  }
 },
 "nbformat": 4,
 "nbformat_minor": 5
}
