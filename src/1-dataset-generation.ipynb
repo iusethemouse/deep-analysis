{
 "cells": [
  {
   "cell_type": "markdown",
   "id": "7902f79b-34e7-4450-a381-8b1ddca9437e",
   "metadata": {},
   "source": [
    "# 1: Dataset generation component"
   ]
  },
  {
   "cell_type": "markdown",
   "id": "c071a37c-9a8f-4459-bcad-5e1cf4c1458f",
   "metadata": {},
   "source": [
    "This handles the generation of training and testing datasets in the shape of _(n_init_conditions * n_sims_per_condition, n_steps + 1, n_species + time)_."
   ]
  },
  {
   "cell_type": "markdown",
   "id": "4527e8ba-5529-4a92-94c7-debd97d63c01",
   "metadata": {},
   "source": [
    "## Step 0: Setup"
   ]
  },
  {
   "cell_type": "code",
   "execution_count": null,
   "id": "5f014a56-ab0d-40ea-afbf-9f14bd9203c3",
   "metadata": {},
   "outputs": [],
   "source": [
    "%load_ext autoreload\n",
    "%autoreload 2"
   ]
  },
  {
   "cell_type": "code",
   "execution_count": null,
   "id": "1f117f97-155c-4d8d-8ed6-b3b645f9d40b",
   "metadata": {},
   "outputs": [],
   "source": [
    "from simulation_manager import SimulationManager\n",
    "\n",
    "import pickle\n",
    "import os\n",
    "from time import time"
   ]
  },
  {
   "cell_type": "code",
   "execution_count": null,
   "id": "58b6fc42-1e4c-4bfc-a198-bd781a3e23d2",
   "metadata": {},
   "outputs": [],
   "source": [
    "current_dir = os.getcwd()"
   ]
  },
  {
   "cell_type": "code",
   "execution_count": null,
   "id": "904e2885-2041-4f0a-b2ac-881c5eb5408a",
   "metadata": {},
   "outputs": [],
   "source": [
    "def gen_per_config(name, path, configs, zero_perturb_prob=0.9, zero_species_range=(0, 10), plot=False):\n",
    "    \"\"\"\n",
    "    Generate train and test datasets for the provided CRN with a set of configurations.\n",
    "    Example `configs` dict:\n",
    "        {\"case_1\": {\n",
    "            \"end_time\": 32,\n",
    "            \"n_steps\": 16,\n",
    "            \"n_init_conditions\": 100,\n",
    "            \"n_sims_per_init_condition\": 500\n",
    "            }\n",
    "        }\n",
    "\n",
    "    Datasets are stored in the \"ssa_datasets\" directory.\n",
    "    \n",
    "    Parameters:\n",
    "    - name: string representing the name of the CRN\n",
    "    - path: string representing the filepath to the CRN definition (Antimony .txt or SML .xml)\n",
    "    - configs: dict containing the different generation configurations\n",
    "    - zero_perturb_prob: float representing the probability of perturbing 0-valued concentrations\n",
    "    - zero_species_range: tuple representing the range of perturbation\n",
    "    - plot: boolean representing whether to plot the generated trajectories (1 plot per initial condition)\n",
    "    \"\"\"\n",
    "    simulation_times = dict()\n",
    "    if not os.path.exists(\"ssa_datasets\"):\n",
    "        os.makedirs(\"ssa_datasets\")\n",
    "        \n",
    "    for case in configs:\n",
    "        config = configs[case]\n",
    "        end_time = config[\"end_time\"]\n",
    "        n_steps = config[\"n_steps\"]\n",
    "        n_init_conditions = config[\"n_init_conditions\"]\n",
    "        n_sims_per_init_condition = config[\"n_sims_per_init_condition\"]\n",
    "\n",
    "        config_name = f\"{name}_{n_steps}_{end_time}_{n_init_conditions}_{n_sims_per_init_condition}\"\n",
    "    \n",
    "        sm = SimulationManager(\n",
    "            path_to_sbml=path,\n",
    "            model_name=name,\n",
    "            n_init_conditions=n_init_conditions,\n",
    "            n_sims_per_init_condition=n_sims_per_init_condition,\n",
    "            end_time=end_time,\n",
    "            n_steps=n_steps\n",
    "        )\n",
    "    \n",
    "        # training data\n",
    "        init_conditions = sm.get_randomized_initial_conditions(\n",
    "            zero_perturb_prob=zero_perturb_prob,\n",
    "            zero_perturb_range=zero_species_range\n",
    "        )\n",
    "    \n",
    "        start_time = time()\n",
    "        data = sm.simulate(\n",
    "            init_conditions\n",
    "        )\n",
    "        time_taken = time() - start_time\n",
    "        simulation_times[case] = time_taken\n",
    "        with open(f\"ssa_datasets/{config_name}_train.pickle\", \"wb\") as f:\n",
    "            pickle.dump(data, f)\n",
    "        print(f\"Generated training data of shape {data.shape}.\")\n",
    "\n",
    "        if plot:\n",
    "            print(\"Plotting...\")\n",
    "            sm.plot_simulations(\n",
    "                f\"plots/{config_name}__ssa\",\n",
    "                data,\n",
    "                n_init_conditions,\n",
    "                n_sims_per_init_condition,\n",
    "                sm.get_column_names()\n",
    "            )\n",
    "    \n",
    "        # validation data\n",
    "        init_conditions = sm.get_randomized_initial_conditions(\n",
    "            zero_perturb_prob=zero_perturb_prob,\n",
    "            zero_perturb_range=zero_species_range\n",
    "        )\n",
    "    \n",
    "        data = sm.simulate(\n",
    "            init_conditions\n",
    "        )\n",
    "        with open(f\"ssa_datasets/{config_name}_test.pickle\", \"wb\") as f:\n",
    "            pickle.dump(data, f)\n",
    "        print(f\"Generated test data of shape {data.shape}.\")\n",
    "        \n",
    "        print(f\"\\nFinished simulation for {case}.\\n\")\n",
    "    \n",
    "    with open(f\"{name}_ssa_simulation_times.pickle\", \"wb\") as f:\n",
    "        pickle.dump(simulation_times, f)"
   ]
  },
  {
   "cell_type": "markdown",
   "id": "b30aec34-ce9e-43ef-9560-bd5daa1a43c9",
   "metadata": {},
   "source": [
    "## Step 1: Multifeedback model"
   ]
  },
  {
   "cell_type": "code",
   "execution_count": null,
   "id": "8cfd6b20-2257-46de-949b-1f4c0029c646",
   "metadata": {},
   "outputs": [],
   "source": [
    "relative_path = \"crn_models/1_multifeedback.txt\"\n",
    "path = os.path.join(current_dir, relative_path)\n",
    "name = \"multifeedback\""
   ]
  },
  {
   "cell_type": "code",
   "execution_count": null,
   "id": "53b08511-c0e2-4484-8d3a-14bf377ef0a9",
   "metadata": {},
   "outputs": [],
   "source": [
    "gen_config = {\n",
    "    # depth\n",
    "    \"case_1\": {\n",
    "        \"end_time\": 32,\n",
    "        \"n_steps\": 16,\n",
    "        \"n_init_conditions\": 100,\n",
    "        \"n_sims_per_init_condition\": 200\n",
    "    },\n",
    "    # breadth\n",
    "    \"case_2\": {\n",
    "        \"end_time\": 32,\n",
    "        \"n_steps\": 16,\n",
    "        \"n_init_conditions\": 200,\n",
    "        \"n_sims_per_init_condition\": 100\n",
    "    }\n",
    "}"
   ]
  },
  {
   "cell_type": "code",
   "execution_count": null,
   "id": "00aafdb7-774c-405a-886d-2ca618254843",
   "metadata": {
    "scrolled": true
   },
   "outputs": [],
   "source": [
    "gen_per_config(name, path, gen_config, plot=True)"
   ]
  },
  {
   "cell_type": "markdown",
   "id": "d94bfe2a-28df-4e14-9c58-ab816dcdaca7",
   "metadata": {},
   "source": [
    "## Step 2: Repressilator model"
   ]
  },
  {
   "cell_type": "code",
   "execution_count": null,
   "id": "23196b66-4f45-45eb-ac36-c0cfa38a50e0",
   "metadata": {},
   "outputs": [],
   "source": [
    "relative_path = \"crn_models/2_repressilator.txt\"\n",
    "path = os.path.join(current_dir, relative_path)\n",
    "name = \"repressilator\""
   ]
  },
  {
   "cell_type": "code",
   "execution_count": null,
   "id": "1f6fe976-f8f2-4672-b29e-1a590c54b12a",
   "metadata": {},
   "outputs": [],
   "source": [
    "gen_config = {\n",
    "    # breadth\n",
    "    \"case_1\": {\n",
    "        \"end_time\": 128,\n",
    "        \"n_steps\": 32,\n",
    "        \"n_init_conditions\": 200,\n",
    "        \"n_sims_per_init_condition\": 100\n",
    "    }\n",
    "}"
   ]
  },
  {
   "cell_type": "code",
   "execution_count": null,
   "id": "dabdafd3-7611-42e2-becd-05267b94fa06",
   "metadata": {
    "scrolled": true
   },
   "outputs": [],
   "source": [
    "gen_per_config(name, path, gen_config, plot=True)"
   ]
  },
  {
   "cell_type": "code",
   "execution_count": null,
   "id": "70364f33-9740-4b1b-b13b-f096b4efa24c",
   "metadata": {},
   "outputs": [],
   "source": []
  }
 ],
 "metadata": {
  "kernelspec": {
   "display_name": "knime_torch_tf",
   "language": "python",
   "name": "knime_torch_tf"
  },
  "language_info": {
   "codemirror_mode": {
    "name": "ipython",
    "version": 3
   },
   "file_extension": ".py",
   "mimetype": "text/x-python",
   "name": "python",
   "nbconvert_exporter": "python",
   "pygments_lexer": "ipython3",
   "version": "3.10.12"
  }
 },
 "nbformat": 4,
 "nbformat_minor": 5
}
