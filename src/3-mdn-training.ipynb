{
 "cells": [
  {
   "cell_type": "markdown",
   "id": "f84adc96-7713-45a2-bb0e-d3c5b35e2152",
   "metadata": {},
   "source": [
    "# 3: MDN training component"
   ]
  },
  {
   "cell_type": "markdown",
   "id": "30ac5b0b-277f-40a0-bfdd-43a1e47331cd",
   "metadata": {},
   "source": [
    "This handles the training of the GAN deep abstraction method using the datasets generated in 1."
   ]
  },
  {
   "cell_type": "markdown",
   "id": "d672a867-a12a-41b9-8d1b-da5f108688f6",
   "metadata": {},
   "source": [
    "## Step 0: Setup"
   ]
  },
  {
   "cell_type": "code",
   "execution_count": null,
   "id": "39ba115f-1956-443c-b579-00785d09c41b",
   "metadata": {},
   "outputs": [],
   "source": [
    "%load_ext autoreload\n",
    "%autoreload 2"
   ]
  },
  {
   "cell_type": "code",
   "execution_count": null,
   "id": "ed6cb43e-de59-49e1-9b51-239c37f4502b",
   "metadata": {},
   "outputs": [],
   "source": [
    "from simulation_manager import SimulationManager\n",
    "from mdn_manager import MdnManager\n",
    "\n",
    "import numpy as np\n",
    "import pandas as pd\n",
    "import tellurium as te\n",
    "import pickle\n",
    "import os\n",
    "from time import time"
   ]
  },
  {
   "cell_type": "code",
   "execution_count": null,
   "id": "03208bbd-b907-4d98-94a8-9577f979f172",
   "metadata": {},
   "outputs": [],
   "source": [
    "current_dir = os.getcwd()"
   ]
  },
  {
   "cell_type": "code",
   "execution_count": null,
   "id": "606848b0-a4bf-4342-8fcc-a40df2cf2716",
   "metadata": {},
   "outputs": [],
   "source": [
    "def train_per_config(name, path, train_config):\n",
    "    training_times = dict()\n",
    "    if not os.path.exists(\"trained_mdn\"):\n",
    "        os.makedirs(\"trained_mdn\")\n",
    "\n",
    "    for case in train_config:\n",
    "        config = train_config[case]\n",
    "        end_time = config[\"end_time\"]\n",
    "        n_steps = config[\"n_steps\"]\n",
    "        n_init_conditions = config[\"n_init_conditions\"]\n",
    "        n_sims_per_init_condition = config[\"n_sims_per_init_condition\"]\n",
    "        n_epochs = config[\"n_epochs\"]\n",
    "        batch_size = config[\"batch_size\"]\n",
    "        patience = config[\"patience\"]\n",
    "        time_step = end_time / n_steps\n",
    "\n",
    "        config_name = f\"{name}_{n_steps}_{end_time}_{n_init_conditions}_{n_sims_per_init_condition}\"   \n",
    "\n",
    "        with open(f\"ssa_datasets/{config_name}_train.pickle\", \"rb\") as f:\n",
    "            training_data = pickle.load(f)\n",
    "\n",
    "        sm = SimulationManager(\n",
    "            path_to_sbml=path,\n",
    "            model_name=name,\n",
    "            n_init_conditions=n_init_conditions,\n",
    "            n_sims_per_init_condition=n_sims_per_init_condition,\n",
    "            end_time=end_time,\n",
    "            n_steps=n_steps\n",
    "        )\n",
    "\n",
    "        mm = MdnManager(\n",
    "            sm.model_name,\n",
    "            sm.get_num_species()\n",
    "        )\n",
    "\n",
    "        mm.load_data(training_data)\n",
    "        mm.prepare_data_loaders(batch_size=batch_size)\n",
    "\n",
    "        start_time = time()\n",
    "        mm.train(n_epochs=n_epochs, patience=patience)\n",
    "        time_taken = time() - start_time\n",
    "\n",
    "        training_times[case] = time_taken\n",
    "        mm.validate()\n",
    "\n",
    "        mm.save_model(f\"trained_mdn/{config_name}\")\n",
    "        print(f\"Finished training MDN for {case}.\")\n",
    "    \n",
    "    with open(f\"{name}_mdn_training_times.pickle\", \"wb\") as f:\n",
    "        pickle.dump(training_times, f)"
   ]
  },
  {
   "cell_type": "markdown",
   "id": "6eb41d9c-5813-4e8c-9618-ee90856e1685",
   "metadata": {},
   "source": [
    "## Step 1: Multifeedback model"
   ]
  },
  {
   "cell_type": "code",
   "execution_count": null,
   "id": "0a55ee5b-15a3-49d5-b571-3dfafe26e8ad",
   "metadata": {},
   "outputs": [],
   "source": [
    "relative_path = \"crn_models/1_multifeedback.txt\"\n",
    "path = os.path.join(current_dir, relative_path)\n",
    "name = \"multifeedback\""
   ]
  },
  {
   "cell_type": "code",
   "execution_count": null,
   "id": "0af6acdf-1dfa-4be3-b724-8c98f023d0fb",
   "metadata": {},
   "outputs": [],
   "source": [
    "train_config = {\n",
    "    \"case_1\": {\n",
    "        \"end_time\": 32,\n",
    "        \"n_steps\": 16,\n",
    "        \"n_init_conditions\": 100,\n",
    "        \"n_sims_per_init_condition\": 200,\n",
    "        \"n_epochs\": 100,\n",
    "        \"batch_size\": 256,\n",
    "        \"patience\": 20\n",
    "    },\n",
    "    \"case_2\": {\n",
    "        \"end_time\": 32,\n",
    "        \"n_steps\": 16,\n",
    "        \"n_init_conditions\": 200,\n",
    "        \"n_sims_per_init_condition\": 100,\n",
    "        \"n_epochs\": 100,\n",
    "        \"batch_size\": 256,\n",
    "        \"patience\": 20\n",
    "    }\n",
    "}"
   ]
  },
  {
   "cell_type": "code",
   "execution_count": null,
   "id": "0f2440b0-f0d4-497f-85c4-c080a2154f5d",
   "metadata": {
    "scrolled": true
   },
   "outputs": [],
   "source": [
    "train_per_config(name, path, train_config)"
   ]
  },
  {
   "cell_type": "markdown",
   "id": "8b238a64-3c93-4bfc-b901-687103300718",
   "metadata": {},
   "source": [
    "## Step 2: Repressilator model"
   ]
  },
  {
   "cell_type": "code",
   "execution_count": null,
   "id": "df8a0c3d-5492-4967-ba72-be9534838213",
   "metadata": {},
   "outputs": [],
   "source": [
    "relative_path = \"crn_models/2_repressilator.txt\"\n",
    "path = os.path.join(current_dir, relative_path)\n",
    "name = \"repressilator\""
   ]
  },
  {
   "cell_type": "code",
   "execution_count": null,
   "id": "6c54e406-6100-416e-a9bb-149abdebfbff",
   "metadata": {},
   "outputs": [],
   "source": [
    "train_config = {\n",
    "    \"case_1\": {\n",
    "        \"end_time\": 128,\n",
    "        \"n_steps\": 32,\n",
    "        \"n_init_conditions\": 200,\n",
    "        \"n_sims_per_init_condition\": 100,\n",
    "        \"n_epochs\": 100,\n",
    "        \"batch_size\": 256,\n",
    "        \"patience\": 20\n",
    "    },\n",
    "}"
   ]
  },
  {
   "cell_type": "code",
   "execution_count": null,
   "id": "ec7af055-4912-48a6-b909-4cdbe500da0e",
   "metadata": {
    "scrolled": true
   },
   "outputs": [],
   "source": [
    "train_per_config(name, path, train_config)"
   ]
  }
 ],
 "metadata": {
  "kernelspec": {
   "display_name": "knime_torch_tf",
   "language": "python",
   "name": "knime_torch_tf"
  },
  "language_info": {
   "codemirror_mode": {
    "name": "ipython",
    "version": 3
   },
   "file_extension": ".py",
   "mimetype": "text/x-python",
   "name": "python",
   "nbconvert_exporter": "python",
   "pygments_lexer": "ipython3",
   "version": "3.10.12"
  }
 },
 "nbformat": 4,
 "nbformat_minor": 5
}
