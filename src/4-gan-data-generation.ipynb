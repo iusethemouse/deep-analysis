{
 "cells": [
  {
   "cell_type": "markdown",
   "id": "a9fb87a1-4eac-4ff1-90e7-0a2a4abb7360",
   "metadata": {},
   "source": [
    "# 4: GAN data generation component"
   ]
  },
  {
   "cell_type": "markdown",
   "id": "86d6a99d-77a5-4595-ac59-f64a1dd11d8b",
   "metadata": {},
   "source": [
    "This handles generating new data using the trained GAN deep abstract models produced in 2."
   ]
  },
  {
   "cell_type": "markdown",
   "id": "9c050690-0c17-42d1-8247-72661c8c89e0",
   "metadata": {},
   "source": [
    "## Step 0: Setup"
   ]
  },
  {
   "cell_type": "code",
   "execution_count": null,
   "id": "e9b39453-2cce-4887-8e7e-d605634c7dd4",
   "metadata": {},
   "outputs": [],
   "source": [
    "%load_ext autoreload\n",
    "%autoreload 2"
   ]
  },
  {
   "cell_type": "code",
   "execution_count": null,
   "id": "ce167c61-a9a8-4c68-9e89-747b7cd8d748",
   "metadata": {},
   "outputs": [],
   "source": [
    "from simulation_manager import SimulationManager\n",
    "from gan_manager import GanManager\n",
    "\n",
    "import pickle\n",
    "import os\n",
    "from time import time"
   ]
  },
  {
   "cell_type": "code",
   "execution_count": null,
   "id": "d9f0dcaa-24bc-4d1f-ae7f-64f30b0dd248",
   "metadata": {},
   "outputs": [],
   "source": [
    "current_dir = os.getcwd()"
   ]
  },
  {
   "cell_type": "code",
   "execution_count": null,
   "id": "e99b3b33-1f14-4884-9759-ef95ea074656",
   "metadata": {},
   "outputs": [],
   "source": [
    "def gen_per_config(name, path, data_configs, plot=False):\n",
    "    simulation_times = dict()\n",
    "    if not os.path.exists(\"gan_datasets\"):\n",
    "        os.makedirs(\"gan_datasets\")\n",
    "        \n",
    "    for case in data_configs:\n",
    "        config = data_configs[case]\n",
    "        end_time = config[\"end_time\"]\n",
    "        n_steps = config[\"n_steps\"]\n",
    "        n_init_conditions = config[\"n_init_conditions\"]\n",
    "        n_sims_per_init_condition = config[\"n_sims_per_init_condition\"]\n",
    "        n_epochs = config[\"n_epochs\"] # this is only for identifying the trained model\n",
    "\n",
    "        config_name = f\"{name}_{n_steps}_{end_time}_{n_init_conditions}_{n_sims_per_init_condition}\"\n",
    "\n",
    "        sm = SimulationManager(\n",
    "            path_to_sbml=path,\n",
    "            model_name=name,\n",
    "            n_init_conditions=n_init_conditions,\n",
    "            n_sims_per_init_condition=n_sims_per_init_condition,\n",
    "            end_time=end_time,\n",
    "            n_steps=n_steps\n",
    "        )\n",
    "\n",
    "        gm = GanManager(\n",
    "            model_name=sm.model_name,\n",
    "            n_epochs=n_epochs,\n",
    "            batch_size=256,\n",
    "            species_names=sm.get_species_names(),\n",
    "            x_dim=sm.get_num_species(),\n",
    "            traj_len=n_steps,\n",
    "            end_time=end_time,\n",
    "            id=config_name\n",
    "        )\n",
    "\n",
    "        gm.load_trained_model()\n",
    "        with open(f\"ssa_datasets/{config_name}_test.pickle\", \"rb\") as f:\n",
    "            testing_data = pickle.load(f)\n",
    "\n",
    "        # placeholder calls, needed to initialise the data layer of the GanManager\n",
    "        gan_train_data = sm.transform_data_for_gan(testing_data)\n",
    "        gan_test_data = sm.transform_validation_data_for_gan(testing_data, n_sims_per_init_condition)\n",
    "        gm.init_dataset(\n",
    "            train_data=gan_train_data,\n",
    "            test_data=gan_test_data\n",
    "        )\n",
    "\n",
    "        ic = sm.extract_initial_conditions_from_dataset(testing_data, n_init_conditions)\n",
    "        start_time = time()\n",
    "        gan_data = gm.generate_trajectories_for_init_conditions(ic, n_sims_per_init_condition=n_sims_per_init_condition)\n",
    "        time_taken = time() - start_time\n",
    "\n",
    "        simulation_times[case] = time_taken\n",
    "\n",
    "        if plot:\n",
    "            print(\"Plotting...\")\n",
    "            sm.plot_simulations(\n",
    "                f\"plots/{config_name}__gan\",\n",
    "                gan_data,\n",
    "                n_init_conditions,\n",
    "                n_sims_per_init_condition,\n",
    "                sm.get_column_names()\n",
    "            )\n",
    "\n",
    "        with open(f\"gan_datasets/{config_name}.pickle\", \"wb\") as f:\n",
    "            pickle.dump(gan_data, f)\n",
    "        print(f\"Generated GAN data of shape {gan_data.shape}.\")"
   ]
  },
  {
   "cell_type": "markdown",
   "id": "b12fbb41-01a0-4c11-ab7c-cd53ab3cbf21",
   "metadata": {},
   "source": [
    "## Step 1: Multifeedback model"
   ]
  },
  {
   "cell_type": "code",
   "execution_count": null,
   "id": "44b2e882-9696-43b3-9902-e0a23bc3fa74",
   "metadata": {},
   "outputs": [],
   "source": [
    "relative_path = \"crn_models/1_multifeedback.txt\"\n",
    "path = os.path.join(current_dir, relative_path)\n",
    "name = \"multifeedback\""
   ]
  },
  {
   "cell_type": "code",
   "execution_count": null,
   "id": "e60992bf-4ff5-46d9-990a-a07830d5fa00",
   "metadata": {},
   "outputs": [],
   "source": [
    "gen_config = {\n",
    "    # depth\n",
    "    \"case_1\": {\n",
    "        \"end_time\": 32,\n",
    "        \"n_steps\": 16,\n",
    "        \"n_init_conditions\": 100,\n",
    "        \"n_sims_per_init_condition\": 200,\n",
    "        \"n_epochs\": 2\n",
    "    },\n",
    "    # breadth\n",
    "    \"case_2\": {\n",
    "        \"end_time\": 32,\n",
    "        \"n_steps\": 16,\n",
    "        \"n_init_conditions\": 200,\n",
    "        \"n_sims_per_init_condition\": 100,\n",
    "        \"n_epochs\": 2\n",
    "    }\n",
    "}"
   ]
  },
  {
   "cell_type": "code",
   "execution_count": null,
   "id": "768f21b1-65fd-4d14-b090-e819d4546152",
   "metadata": {
    "scrolled": true
   },
   "outputs": [],
   "source": [
    "gen_per_config(name, path, gen_config, plot=True)"
   ]
  },
  {
   "cell_type": "markdown",
   "id": "4e41b8e8-2299-4299-8152-f6773267c11c",
   "metadata": {},
   "source": [
    "## Step 2: Repressilator model"
   ]
  },
  {
   "cell_type": "code",
   "execution_count": null,
   "id": "d9fa208c-9a8d-4df2-9efe-1f3e021c468f",
   "metadata": {},
   "outputs": [],
   "source": [
    "relative_path = \"crn_models/2_repressilator.txt\"\n",
    "path = os.path.join(current_dir, relative_path)\n",
    "name = \"repressilator\""
   ]
  },
  {
   "cell_type": "code",
   "execution_count": null,
   "id": "0d80115e-69c3-415f-96a1-11d6d1578f47",
   "metadata": {},
   "outputs": [],
   "source": [
    "gen_config = {\n",
    "    # breadth\n",
    "    \"case_1\": {\n",
    "        \"end_time\": 128,\n",
    "        \"n_steps\": 32,\n",
    "        \"n_init_conditions\": 200,\n",
    "        \"n_sims_per_init_condition\": 100,\n",
    "        \"n_epochs\": 2\n",
    "    }\n",
    "}"
   ]
  },
  {
   "cell_type": "code",
   "execution_count": null,
   "id": "71791cb1-556a-47fa-8ed0-d2b4520370f3",
   "metadata": {
    "scrolled": true
   },
   "outputs": [],
   "source": [
    "gen_per_config(name, path, gen_config, plot=True)"
   ]
  }
 ],
 "metadata": {
  "kernelspec": {
   "display_name": "knime_torch_tf",
   "language": "python",
   "name": "knime_torch_tf"
  },
  "language_info": {
   "codemirror_mode": {
    "name": "ipython",
    "version": 3
   },
   "file_extension": ".py",
   "mimetype": "text/x-python",
   "name": "python",
   "nbconvert_exporter": "python",
   "pygments_lexer": "ipython3",
   "version": "3.10.12"
  }
 },
 "nbformat": 4,
 "nbformat_minor": 5
}
